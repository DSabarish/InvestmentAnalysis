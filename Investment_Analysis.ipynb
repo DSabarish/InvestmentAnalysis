{
  "nbformat": 4,
  "nbformat_minor": 0,
  "metadata": {
    "colab": {
      "provenance": [],
      "authorship_tag": "ABX9TyPXKTPT2qI40F6I8plmXLn/",
      "include_colab_link": true
    },
    "kernelspec": {
      "name": "python3",
      "display_name": "Python 3"
    },
    "language_info": {
      "name": "python"
    }
  },
  "cells": [
    {
      "cell_type": "markdown",
      "metadata": {
        "id": "view-in-github",
        "colab_type": "text"
      },
      "source": [
        "<a href=\"https://colab.research.google.com/github/DSabarish/InvestmentAnalysis/blob/main/Investment_Analysis.ipynb\" target=\"_parent\"><img src=\"https://colab.research.google.com/assets/colab-badge.svg\" alt=\"Open In Colab\"/></a>"
      ]
    },
    {
      "cell_type": "code",
      "source": [
        "#Notes\n",
        "\n",
        "https://medium.com/@hemansnation/11-projects-a-data-analyst-should-build-for-the-finance-domain-as-a-fresher-58bf402823cb\n",
        "\n",
        "The project ideas mentioned in the article:\n",
        "  1. Financial modeling\n",
        "  2. Fraud detection\n",
        "  3. Risk management\n",
        "  4. Credit risk analysis\n",
        "  5. Performance reporting\n",
        "  6. Market analysis\n",
        "  7. Customer segmentation\n",
        "  8. Investment analysis\n",
        "  9. Budget forecasting\n",
        "  10. Product pricing analysis\n",
        "  11. Compliance monitoring\n",
        "\n",
        "\n",
        "\n",
        "8. Investment analysis\n",
        "https://www.youtube.com/watch?v=sAyj_qopxHg\n",
        "https://www.kaggle.com/code/ashydv/investment-opportunity-analysis-eda?source=post_page-----58bf402823cb--------------------------------\n"
      ],
      "metadata": {
        "id": "IzRQVD88IKFB"
      },
      "execution_count": null,
      "outputs": []
    },
    {
      "cell_type": "markdown",
      "source": [
        "># **8. Investment analysis**\n",
        "\n",
        "\n",
        "\n"
      ],
      "metadata": {
        "id": "Rp8D4lvKJxk7"
      }
    },
    {
      "cell_type": "markdown",
      "source": [
        "## Investment Analysis\n",
        "\n",
        "This analysis is for a Spark Funds case study that analyzes data and derives insightful trends.\n",
        "\n",
        "Spark Funds make investments in various companies.\n",
        "\n",
        "The CEO of Spark Funds wants to **understand global investment trends** to make effective investment decisions.\n",
        "\n",
        "The **objective** is to identify the **best sectors, countries, and suitable investment types**\n",
        "\n",
        "The overall strategy is to invest where others are investing, implying that the 'best' sectors and countries are the ones 'where most investors are investing'.\n",
        "\n",
        "Spark Funds has two minor constraints for investments:\n",
        "\n",
        "1. It wants to invest between **5 to 15 million USD** per round of investment.\n",
        "2. It wants to invest only in **English-speaking countries** because of the ease of communication with the invested companies.\n"
      ],
      "metadata": {
        "id": "DlW36p4QKM07"
      }
    },
    {
      "cell_type": "markdown",
      "source": [
        "#Importing Packages"
      ],
      "metadata": {
        "id": "WEUZuJ55264y"
      }
    },
    {
      "cell_type": "code",
      "execution_count": null,
      "metadata": {
        "id": "dg2ZYWVlHTqb"
      },
      "outputs": [],
      "source": [
        "import pandas as pd\n",
        "import numpy as np"
      ]
    },
    {
      "cell_type": "markdown",
      "source": [
        "#Loading Files as DataFrame"
      ],
      "metadata": {
        "id": "Ig5PXS8Ujsrp"
      }
    },
    {
      "cell_type": "code",
      "source": [
        "Companies = \"https://raw.githubusercontent.com/DSabarish/InvestmentAnalysis/main/companies.txt\"\n",
        "Rounds2 = \"https://raw.githubusercontent.com/DSabarish/InvestmentAnalysis/main/rounds2.csv\"\n",
        "\n",
        "C = pd.read_csv(Companies, sep='\\t', encoding='ISO-8859-1')\n",
        "R = pd.read_csv(Rounds2, encoding='ISO-8859-1')"
      ],
      "metadata": {
        "id": "4MqQ7zLkzddy"
      },
      "execution_count": null,
      "outputs": []
    },
    {
      "cell_type": "markdown",
      "source": [
        "#Data Quality Exploration"
      ],
      "metadata": {
        "id": "TnCHoG853JSQ"
      }
    },
    {
      "cell_type": "code",
      "source": [
        "def DataQuality_stats(df):\n",
        "    # print(\"FileName\")\n",
        "    print(\"Rows:\", df.shape[0])\n",
        "    print(\"Columns:\", df.shape[1])\n",
        "    print(\"Data Quality:\")\n",
        "    stats = pd.DataFrame({\n",
        "        '#Rows': df.shape[0],\n",
        "        '#Unique Values': df.nunique(),\n",
        "        '#Null Values': df.isnull().sum(),\n",
        "        '%Null Values': round((df.isnull().mean() * 100), 2)\n",
        "    })\n",
        "\n",
        "    return stats"
      ],
      "metadata": {
        "id": "-bYFaJl7-Zm0"
      },
      "execution_count": null,
      "outputs": []
    },
    {
      "cell_type": "code",
      "source": [
        "print(\"Company File\")\n",
        "DataQuality_stats(C)"
      ],
      "metadata": {
        "id": "xSuUfjK2-1Al"
      },
      "execution_count": null,
      "outputs": []
    },
    {
      "cell_type": "code",
      "source": [
        "print(\"Round2 File\")\n",
        "DataQuality_stats(R)"
      ],
      "metadata": {
        "id": "aOSpvhHS-30s"
      },
      "execution_count": null,
      "outputs": []
    },
    {
      "cell_type": "code",
      "source": [
        "# Lowercase 'permalink' column in DataFrame C\n",
        "C['permalink'] = C['permalink'].str.lower()\n",
        "\n",
        "\n",
        "# Rename 'company_permalink' column to 'permalink' and the lowercasing its values in DataFrame R\n",
        "R = R.rename(columns={'company_permalink': 'permalink'})\n",
        "R['permalink'] = R['permalink'].str.lower()\n",
        "\n",
        "\n",
        "# Perform a left join between DataFrames C and R:\n",
        "# Merging C and R DataFrames using 'permalink' column as the join key,\n",
        "# retaining all rows from C and including matching rows from R, with NaN values where there are no matches in R.\n",
        "merged_df = pd.merge(C, R, how='left', on='permalink')\n",
        "\n",
        "# Display the resulting DataFrame:\n",
        "merged_df.head()\n",
        "\n"
      ],
      "metadata": {
        "id": "DIiBTFvE5Vfb"
      },
      "execution_count": null,
      "outputs": []
    },
    {
      "cell_type": "code",
      "source": [
        "print(\"Merged Dataframe\")\n",
        "DataQuality_stats(merged_df)"
      ],
      "metadata": {
        "id": "ucTd1cfL5VRw"
      },
      "execution_count": null,
      "outputs": []
    },
    {
      "cell_type": "code",
      "source": [
        "# Cleaning data by removing unnecessary columns\n",
        "columns_to_drop = ['funded_at', 'founded_at', 'funding_round_permalink', 'funding_round_code', 'homepage_url', 'state_code', 'region', 'city']\n",
        "merged_df = merged_df.drop(columns=columns_to_drop, axis=1)"
      ],
      "metadata": {
        "id": "5DzDlHNAI0ah"
      },
      "execution_count": null,
      "outputs": []
    },
    {
      "cell_type": "code",
      "source": [
        "# Cleaning data > Remove rows with missing values\n",
        "\n",
        "# 'raised_amount_usd' column with 17.39% missing values\n",
        "merged_df = merged_df[pd.notnull(merged_df['raised_amount_usd'])]\n",
        "\n",
        "# 'country_code' column with 7.55% missing values\n",
        "# This ensures we exclude rows without country code information, necessary for geographical analysis\n",
        "merged_df = merged_df[pd.notnull(merged_df['country_code'])]\n",
        "\n",
        "# 'category_list' column with 2.97% missing values\n",
        "# This ensures we exclude rows without category list information, necessary for sector-wise analysis\n",
        "merged_df = merged_df[pd.notnull(merged_df['category_list'])]\n",
        "\n",
        "# Display the cleaned master_frame DataFrame\n",
        "print(\"Cleaned merged_df:\")\n",
        "merged_df.head()\n"
      ],
      "metadata": {
        "id": "iN8PhM7qA3_X"
      },
      "execution_count": null,
      "outputs": []
    },
    {
      "cell_type": "code",
      "source": [
        "print(\"Cleaned merged_df:\")\n",
        "DataQuality_stats(merged_df)"
      ],
      "metadata": {
        "id": "qg68ynUFA37-"
      },
      "execution_count": null,
      "outputs": []
    },
    {
      "cell_type": "code",
      "source": [
        "round_names = R['funding_round_type'].unique()\n",
        "\n",
        "print(round_names)"
      ],
      "metadata": {
        "id": "KVsVyjoKLqk8"
      },
      "execution_count": null,
      "outputs": []
    },
    {
      "cell_type": "markdown",
      "source": [
        "Explanation:\n",
        "\n",
        "| Funding Round Type   | Description                                                                                        |\n",
        "|----------------------|----------------------------------------------------------------------------------------------------|\n",
        "| Venture              | Funding for new and growing companies with big ideas.                                              |\n",
        "| Seed                 | Early funding to help start a business or develop a product.                                        |\n",
        "| Undisclosed          | Funding where details are not publicly shared.                                                      |\n",
        "| Equity Crowdfunding | Money raised from many people in exchange for a stake in the company.                               |\n",
        "| Convertible Note     | Short-term loan that can be converted into ownership in the future.                                 |\n",
        "| Private Equity       | Investment in established companies looking to grow or restructure.                                 |\n",
        "| Debt Financing       | Borrowing money that needs to be repaid with interest.                                              |\n",
        "| Angel                | Investment from wealthy individuals who believe in a startup's potential.                            |\n",
        "| Grant                | Free money awarded for specific projects or initiatives.                                             |\n",
        "| Secondary Market     | Buying and selling existing shares between investors.                                               |\n",
        "| Post IPO Equity      | Funds raised by a company selling shares after going public.                                         |\n",
        "| Post IPO Debt        | Debt taken on by a company after becoming publicly traded.                                           |\n",
        "| Product Crowdfunding | Money raised from the public for creating a new product.                                             |\n",
        "| Non-equity Assistance| Help given without expecting ownership in return, like loans or grants.                              |\n"
      ],
      "metadata": {
        "id": "AqjRWkXcQo5x"
      }
    },
    {
      "cell_type": "code",
      "source": [
        "# prompt: export merged_df to csv\n",
        "\n",
        "merged_df.to_csv('Cleaned_Investment_data.csv')\n"
      ],
      "metadata": {
        "id": "jKj1MJXpT9EH"
      },
      "execution_count": null,
      "outputs": []
    },
    {
      "cell_type": "code",
      "source": [
        "# Grouping the master_frame DataFrame by 'funding_round_type'\n",
        "funding_round_type_group = merged_df.groupby('funding_round_type')\n",
        "\n",
        "# Calculating the average investment amount for each funding round type\n",
        "type_funding = funding_round_type_group['raised_amount_usd'].mean().sort_values(ascending=False).astype(int)\n",
        "\n",
        "# Displaying the average investment amount for each funding round type\n",
        "type_funding\n"
      ],
      "metadata": {
        "id": "3TT5Zb-EJm5Q"
      },
      "execution_count": null,
      "outputs": []
    },
    {
      "cell_type": "code",
      "source": [
        "import seaborn as sns\n",
        "import matplotlib.pyplot as plt\n",
        "\n",
        "# Set the figure size\n",
        "plt.figure(figsize=(12, 8))\n",
        "\n",
        "# Create a box plot\n",
        "sns.boxplot(x='funding_round_type', y='raised_amount_usd', data=merged_df, palette='Set1')\n",
        "plt.yscale('log')  # Set the y-axis scale to logarithmic for better visualization\n",
        "\n",
        "# Add a swarm plot on top of the box plot\n",
        "sns.swarmplot(x='funding_round_type', y='raised_amount_usd', data=merged_df, color='black', alpha=0.5)\n",
        "\n",
        "# Set plot labels and title\n",
        "plt.title('Distribution of Raised Amount USD by Funding Round Type')\n",
        "plt.xlabel('Funding Round Type')\n",
        "plt.ylabel('Raised Amount (USD)')\n",
        "plt.xticks(rotation=45)  # Rotate the x-axis labels for better readability\n",
        "\n",
        "# Show the plot\n",
        "plt.show()\n"
      ],
      "metadata": {
        "id": "DaTc_KEMUjxF"
      },
      "execution_count": null,
      "outputs": []
    },
    {
      "cell_type": "code",
      "source": [
        "import seaborn as sns\n",
        "import matplotlib.pyplot as plt\n",
        "\n",
        "# Set the style of the plot\n",
        "sns.set_style(\"whitegrid\")\n",
        "\n",
        "# Create the box plot\n",
        "plt.figure(figsize=(12, 6))\n",
        "sns.boxplot(x='funding_round_type', y='raised_amount_usd', data=merged_df)\n",
        "plt.yscale('log')  # Set the y-axis scale to logarithmic for better visualization\n",
        "plt.title('Distribution of Raised Amount USD by Funding Round Type')\n",
        "plt.xlabel('Funding Round Type')\n",
        "plt.ylabel('Raised Amount (USD)')\n",
        "plt.xticks(rotation=45)  # Rotate the x-axis labels for better readability\n",
        "plt.show()\n"
      ],
      "metadata": {
        "id": "0DygQi5KJm15"
      },
      "execution_count": null,
      "outputs": []
    },
    {
      "cell_type": "code",
      "source": [
        "import seaborn as sns\n",
        "import matplotlib.pyplot as plt\n",
        "\n",
        "# Set the style of the plot\n",
        "sns.set_style(\"whitegrid\")\n",
        "\n",
        "# Create the box plot\n",
        "plt.figure(figsize=(12, 6))\n",
        "sns.boxplot(x='funding_round_type', y='raised_amount_usd', data=merged_df)\n",
        "plt.yscale('log')  # Set the y-axis scale to logarithmic for better visualization\n",
        "plt.title('Distribution of Raised Amount USD by Funding Round Type')\n",
        "plt.xlabel('Funding Round Type')\n",
        "plt.ylabel('Raised Amount (USD)')\n",
        "plt.xticks(rotation=45)  # Rotate the x-axis labels for better readability\n",
        "plt.show()\n"
      ],
      "metadata": {
        "id": "LfMruP4MJmwH"
      },
      "execution_count": null,
      "outputs": []
    },
    {
      "cell_type": "code",
      "source": [
        "# Create the violin plot\n",
        "plt.figure(figsize=(12, 6))\n",
        "sns.violinplot(x='funding_round_type', y='raised_amount_usd', data=merged_df)\n",
        "plt.yscale('log')  # Set the y-axis scale to logarithmic for better visualization\n",
        "plt.title('Distribution of Raised Amount USD by Funding Round Type')\n",
        "plt.xlabel('Funding Round Type')\n",
        "plt.ylabel('Raised Amount (USD)')\n",
        "plt.xticks(rotation=45)  # Rotate the x-axis labels for better readability\n",
        "plt.show()\n"
      ],
      "metadata": {
        "id": "T4ZI-389Jmso"
      },
      "execution_count": null,
      "outputs": []
    },
    {
      "cell_type": "code",
      "source": [
        "# Create the swarm plot\n",
        "plt.figure(figsize=(12, 6))\n",
        "sns.swarmplot(x='funding_round_type', y='raised_amount_usd', data=merged_df)\n",
        "plt.yscale('log')  # Set the y-axis scale to logarithmic for better visualization\n",
        "plt.title('Distribution of Raised Amount USD by Funding Round Type')\n",
        "plt.xlabel('Funding Round Type')\n",
        "plt.ylabel('Raised Amount (USD)')\n",
        "plt.xticks(rotation=45)  # Rotate the x-axis labels for better readability\n",
        "plt.show()\n"
      ],
      "metadata": {
        "id": "-fwjz8JNJmpv"
      },
      "execution_count": null,
      "outputs": []
    },
    {
      "cell_type": "code",
      "source": [],
      "metadata": {
        "id": "OGgoG3khJmna"
      },
      "execution_count": null,
      "outputs": []
    },
    {
      "cell_type": "code",
      "source": [],
      "metadata": {
        "id": "XfwY_G1WJmk1"
      },
      "execution_count": null,
      "outputs": []
    },
    {
      "cell_type": "code",
      "source": [],
      "metadata": {
        "id": "AnUvWwW8JmiL"
      },
      "execution_count": null,
      "outputs": []
    },
    {
      "cell_type": "code",
      "source": [],
      "metadata": {
        "id": "RnH3rU3CJmff"
      },
      "execution_count": null,
      "outputs": []
    },
    {
      "cell_type": "code",
      "source": [],
      "metadata": {
        "id": "XlnENo8sJmdO"
      },
      "execution_count": null,
      "outputs": []
    },
    {
      "cell_type": "code",
      "source": [],
      "metadata": {
        "id": "Wsumgu5AJmam"
      },
      "execution_count": null,
      "outputs": []
    },
    {
      "cell_type": "markdown",
      "source": [
        "To explain the differences between venture capital, seed funding, and private equity in an Excel table format, you can create a table with columns for each type of funding and rows for their key characteristics. Here's how you could structure the table:\n",
        "\n",
        "| Characteristic          | Venture Capital | Seed Funding   | Private Equity |\n",
        "|-------------------------|-----------------|----------------|----------------|\n",
        "| Stage of Company        | Early-stage     | Early-stage    | Mature         |\n",
        "| Investment Size         | Moderate to large | Small to moderate | Large           |\n",
        "| Company Development     | High-growth potential | Early development | Established     |\n",
        "| Investor Requirements  | High potential for ROI | Growth potential | Profitability, cash flow |\n",
        "| Equity Ownership       | Equity stake in exchange for funding | Equity stake or convertible debt | Equity stake or control |\n",
        "| Typical Sector Focus   | Technology, biotech, high-growth industries | Varied | Varied, often non-tech sectors |\n",
        "| Risk Level             | High            | High           | Moderate to High |\n",
        "| Investment Timeline    | Medium to Long-term | Short to Medium-term | Medium to Long-term |\n",
        "| Exit Strategy Options  | IPO, acquisition | Acquisition, next funding round | IPO, sale to another company, recapitalization |\n",
        "\n",
        "This table provides a comparison of the key differences between venture capital, seed funding, and private equity across various aspects such as stage of company, investment size, investor requirements, risk level, and exit strategy options. It can help understand how each type of funding differs in terms of their target companies, investment strategies, and objectives."
      ],
      "metadata": {
        "id": "JHBZ2caL4IsV"
      }
    }
  ]
}